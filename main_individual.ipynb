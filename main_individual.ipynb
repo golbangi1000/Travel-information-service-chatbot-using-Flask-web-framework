{
  "cells": [
    {
      "cell_type": "markdown",
      "metadata": {
        "id": "vhRSpSBFKu37"
      },
      "source": [
        "#### ※ There are many many works that require CPU resource, so i7 would be good if intel cpu is used. 8 to 16 GB of ram is recommended. This project uses machine learning instead of deep learning, so GPU with high spec is not needed.  "
      ]
    },
    {
      "cell_type": "markdown",
      "metadata": {
        "id": "aDFFAC0Wmsdm"
      },
      "source": [
        "### 1. Analyse and visualise some relevant dataset(s) – produce charts and document observations\n",
        "(5 marks)"
      ]
    },
    {
      "cell_type": "markdown",
      "metadata": {
        "id": "OX0j9CU6Ku4C"
      },
      "source": [
        "##### This chatbot is travel related information chatbot. Since it needs to answer travel related questions, two datasets were used. ATIS and Out-of-Scope Prediction Data (url: https://github.com/clinc/oos-eval) was used. Not all of the labels in the datasets were used for this project. Labels that are needed for this projects were used, which are atis_airline, atis_flight, atis_flight_time, current_location, distance, timezone, travel_suggestion, and weather. Information on these nine labels were extracted from the two datasets to be used for this chatbot project intent classification. "
      ]
    },
    {
      "cell_type": "markdown",
      "metadata": {
        "id": "A7nCmMsgmsdq"
      },
      "source": [
        "* Ignore warnings setting"
      ]
    },
    {
      "cell_type": "code",
      "execution_count": null,
      "metadata": {
        "id": "EfYiTMoQmsdq"
      },
      "outputs": [],
      "source": [
        "import warnings\n",
        "warnings.filterwarnings('ignore')"
      ]
    },
    {
      "cell_type": "markdown",
      "metadata": {
        "id": "ubIfAFq7msdr"
      },
      "source": [
        "* Filter intent data that are needed "
      ]
    },
    {
      "cell_type": "code",
      "execution_count": null,
      "metadata": {
        "id": "6fFTPwq5msds"
      },
      "outputs": [],
      "source": [
        "import pandas as pd\n",
        "\n",
        "#load Out-of-Scope Prediction data\n",
        "f= pd.read_csv(\"./dataset/data.csv\", encoding='cp949')\n",
        "\n",
        "#extract necessary columns\n",
        "f=f[['sentence','intent']]\n",
        "\n",
        "#list intents that are needed\n",
        "atis_intents = ['current_location','distance', 'timezone','travel_suggestion', 'weather']\n",
        "\n",
        "#filtering function to get list of intents needed\n",
        "def filtering(x):\n",
        "    # if a row belongs to the list of intent needed make that row True, if not make it false.\n",
        "    if x in atis_intents:\n",
        "        return True\n",
        "    else:\n",
        "        return False\n",
        "\n",
        "# use filtering function to filter columns that I need, and get the coressponding index of them.\n",
        "idx = f['intent'].apply(filtering)\n",
        "\n",
        "# get the rows that are True, and save them in filtered_data.\n",
        "filtered_data = f[idx]\n",
        "\n",
        "# save filtered data in csv file format.W\n",
        "filtered_data.to_csv(\"./filtered_data.csv\", index=False, encoding='cp949')"
      ]
    },
    {
      "cell_type": "markdown",
      "metadata": {
        "id": "dUYwlIoHmsds"
      },
      "source": [
        "* Data split"
      ]
    },
    {
      "cell_type": "code",
      "execution_count": null,
      "metadata": {
        "id": "_77BFDidmsdt"
      },
      "outputs": [],
      "source": [
        "# import modules that I need.\n",
        "# import sklearn and other moudules that I need like sklearn.\n",
        "from sklearn import *\n",
        "from sklearn.ensemble import *\n",
        "from sklearn.metrics import *\n",
        "from sklearn.preprocessing import LabelEncoder\n",
        "# module to save models\n",
        "import joblib\n",
        "# use pandas to preprocess and load data.\n",
        "import pandas as pd\n",
        "# library that turn texts to vector\n",
        "import spacy\n",
        "# library that is needed for matrix operations.\n",
        "import numpy as np\n",
        "\n",
        "# load ATIS dataset and set columns. \n",
        "X = pd.read_csv(\"./dataset/atis_intents_train.csv\", header=None)\n",
        "X.columns= ['label', 'query']\n",
        "X_test = pd.read_csv(\"./dataset/atis_intents_test.csv\", header=None)\n",
        "X_test.columns = ['label', 'query']\n",
        "\n",
        "# load Git hub dataset (Data reference URL: https://github.com/clinc/oos-eval) \n",
        "X2 = pd.read_csv(\"filtered_data.csv\")\n",
        "# set column names for filtered data.\n",
        "X2.columns= ['query', 'label']\n",
        "\n",
        "#list intents that are needed\n",
        "intents = ['atis_airfare','atis_airline','atis_flight','atis_flight_time']\n",
        "\n",
        "#filtering function to get list of intents needed\n",
        "def filtering(x):\n",
        "    # if a row belongs to the list of intent needed make that row True, if not make it false.\n",
        "    if x in intents:\n",
        "        return True\n",
        "    else:\n",
        "        return False\n",
        "\n",
        "# use filtering function to filter columns that I need, and get the coressponding index of them.\n",
        "X_idx = X['label'].apply(filtering)\n",
        "X_test_idx = X_test['label'].apply(filtering)\n",
        "\n",
        "# concatenate data\n",
        "X = pd.concat([X[X_idx],X_test[X_test_idx],X2])"
      ]
    },
    {
      "cell_type": "markdown",
      "metadata": {
        "id": "AEuI1-Ubmsdu"
      },
      "source": [
        "* Data print"
      ]
    },
    {
      "cell_type": "code",
      "execution_count": null,
      "metadata": {
        "id": "AtIDzx4dmsdu",
        "outputId": "389b593a-47cc-4cf5-fe69-584ed6a3d39d"
      },
      "outputs": [
        {
          "name": "stdout",
          "output_type": "stream",
          "text": [
            "                 label                                              query\n",
            "0          atis_flight   i want to fly from boston at 838 am and arriv...\n",
            "1          atis_flight   what flights are available from pittsburgh to...\n",
            "2     atis_flight_time   what is the arrival time in san francisco for...\n",
            "3         atis_airfare            cheapest airfare from tacoma to orlando\n",
            "4         atis_airfare   round trip fares from pittsburgh to philadelp...\n",
            "...                ...                                                ...\n",
            "3542           weather                       you want to know the weather\n",
            "3543           weather                      tell me the weather for today\n",
            "3544           weather               please tell me the weather for today\n",
            "3545           weather                   what is the current weather like\n",
            "3546           weather                     the weather today in las vegas\n",
            "\n",
            "[8566 rows x 2 columns]\n"
          ]
        }
      ],
      "source": [
        "print(X)"
      ]
    },
    {
      "cell_type": "markdown",
      "metadata": {
        "id": "6KpSjGmemsdv"
      },
      "source": [
        "* Data class histogram"
      ]
    },
    {
      "cell_type": "code",
      "execution_count": null,
      "metadata": {
        "id": "vUDHCIy6msdw",
        "outputId": "7c4fd4e6-67d5-425a-f8aa-a94dc1367396"
      },
      "outputs": [
        {
          "data": {
            "text/plain": [
              "(array([4298.,   55.,  471.,  195.,    0.,  857.,  572.,  840.,  653.,\n",
              "         625.]),\n",
              " array([0. , 0.8, 1.6, 2.4, 3.2, 4. , 4.8, 5.6, 6.4, 7.2, 8. ]),\n",
              " <BarContainer object of 10 artists>)"
            ]
          },
          "execution_count": 5,
          "metadata": {},
          "output_type": "execute_result"
        },
        {
          "data": {
            "image/png": "[encoded data removed]",
            "text/plain": [
              "<Figure size 1080x576 with 1 Axes>"
            ]
          },
          "metadata": {
            "needs_background": "light"
          },
          "output_type": "display_data"
        }
      ],
      "source": [
        "import matplotlib.pyplot as plt\n",
        "plt.figure(figsize=(15,8))\n",
        "plt.hist(X['label'])"
      ]
    },
    {
      "cell_type": "markdown",
      "metadata": {
        "id": "QqwkxJr7Ku4M"
      },
      "source": [
        "* Class imbalance preprocessing"
      ]
    },
    {
      "cell_type": "code",
      "execution_count": null,
      "metadata": {
        "id": "plnJ8YYjKu4N",
        "outputId": "6c863440-55d5-4893-eb1a-e2157882f7e8"
      },
      "outputs": [
        {
          "data": {
            "text/html": [
              "<div>\n",
              "<style scoped>\n",
              "    .dataframe tbody tr th:only-of-type {\n",
              "        vertical-align: middle;\n",
              "    }\n",
              "\n",
              "    .dataframe tbody tr th {\n",
              "        vertical-align: top;\n",
              "    }\n",
              "\n",
              "    .dataframe thead th {\n",
              "        text-align: right;\n",
              "    }\n",
              "</style>\n",
              "<table border=\"1\" class=\"dataframe\">\n",
              "  <thead>\n",
              "    <tr style=\"text-align: right;\">\n",
              "      <th></th>\n",
              "      <th>label</th>\n",
              "      <th>query</th>\n",
              "    </tr>\n",
              "  </thead>\n",
              "  <tbody>\n",
              "    <tr>\n",
              "      <th>0</th>\n",
              "      <td>weather</td>\n",
              "      <td>is it hot outside?</td>\n",
              "    </tr>\n",
              "    <tr>\n",
              "      <th>1</th>\n",
              "      <td>current_location</td>\n",
              "      <td>how do i find my current place?</td>\n",
              "    </tr>\n",
              "    <tr>\n",
              "      <th>2</th>\n",
              "      <td>travel_suggestion</td>\n",
              "      <td>list some attractions in gatlinburg?</td>\n",
              "    </tr>\n",
              "    <tr>\n",
              "      <th>3</th>\n",
              "      <td>current_location</td>\n",
              "      <td>show my position on the map</td>\n",
              "    </tr>\n",
              "    <tr>\n",
              "      <th>4</th>\n",
              "      <td>weather</td>\n",
              "      <td>will it be hot tomorrow?</td>\n",
              "    </tr>\n",
              "    <tr>\n",
              "      <th>...</th>\n",
              "      <td>...</td>\n",
              "      <td>...</td>\n",
              "    </tr>\n",
              "    <tr>\n",
              "      <th>3809</th>\n",
              "      <td>current_location</td>\n",
              "      <td>how do i know where i'm at?</td>\n",
              "    </tr>\n",
              "    <tr>\n",
              "      <th>3810</th>\n",
              "      <td>atis_flight</td>\n",
              "      <td>which united airlines flight flies across thi...</td>\n",
              "    </tr>\n",
              "    <tr>\n",
              "      <th>3811</th>\n",
              "      <td>atis_airline</td>\n",
              "      <td>which airlines fly into and out of denver</td>\n",
              "    </tr>\n",
              "    <tr>\n",
              "      <th>3812</th>\n",
              "      <td>current_location</td>\n",
              "      <td>where are we located</td>\n",
              "    </tr>\n",
              "    <tr>\n",
              "      <th>3813</th>\n",
              "      <td>weather</td>\n",
              "      <td>how cold is it in wisconsin today</td>\n",
              "    </tr>\n",
              "  </tbody>\n",
              "</table>\n",
              "<p>3814 rows × 2 columns</p>\n",
              "</div>"
            ],
            "text/plain": [
              "                  label                                              query\n",
              "0               weather                                 is it hot outside?\n",
              "1      current_location                    how do i find my current place?\n",
              "2     travel_suggestion               list some attractions in gatlinburg?\n",
              "3      current_location                        show my position on the map\n",
              "4               weather                           will it be hot tomorrow?\n",
              "...                 ...                                                ...\n",
              "3809   current_location                        how do i know where i'm at?\n",
              "3810        atis_flight   which united airlines flight flies across thi...\n",
              "3811       atis_airline          which airlines fly into and out of denver\n",
              "3812   current_location                               where are we located\n",
              "3813            weather                  how cold is it in wisconsin today\n",
              "\n",
              "[3814 rows x 2 columns]"
            ]
          },
          "execution_count": 6,
          "metadata": {},
          "output_type": "execute_result"
        }
      ],
      "source": [
        "# To reduce class imbalance of atis_flight, reduce the number of atis_flight to reasonable number.\n",
        "condition = (X.label == 'atis_flight')\n",
        "\n",
        "Non_condition = (X.label != 'atis_flight')\n",
        "\n",
        "X = pd.concat([X[condition].iloc[0:500,:],X[Non_condition]])\n",
        "\n",
        "# shuffwle X data row, and reset index\n",
        "f_X = X.sample(frac=1).reset_index(drop=True) \n",
        "\n",
        "# Data split \n",
        "X = f_X[:int(len(f_X)*0.8)]\n",
        "X_test = f_X[int(len(f_X)*0.8):]\n",
        "X"
      ]
    },
    {
      "cell_type": "code",
      "execution_count": null,
      "metadata": {
        "id": "HMQRP809Ku4O",
        "outputId": "c4d47d34-b3c4-4ae7-e355-db72c178e69f"
      },
      "outputs": [
        {
          "data": {
            "text/plain": [
              "(array([498., 510., 674., 400.,   0., 470.,  49., 682., 151., 380.]),\n",
              " array([0. , 0.8, 1.6, 2.4, 3.2, 4. , 4.8, 5.6, 6.4, 7.2, 8. ]),\n",
              " <BarContainer object of 10 artists>)"
            ]
          },
          "execution_count": 7,
          "metadata": {},
          "output_type": "execute_result"
        },
        {
          "data": {
            "image/png": "[encoded data removed]",
            "text/plain": [
              "<Figure size 1080x576 with 1 Axes>"
            ]
          },
          "metadata": {
            "needs_background": "light"
          },
          "output_type": "display_data"
        }
      ],
      "source": [
        "import matplotlib.pyplot as plt\n",
        "plt.figure(figsize=(15,8))\n",
        "plt.hist(X['label'])"
      ]
    },
    {
      "cell_type": "markdown",
      "metadata": {
        "id": "6w3rHtlNmsdw"
      },
      "source": [
        "* Spacy en_core_web_md install for Data vectorization"
      ]
    },
    {
      "cell_type": "code",
      "execution_count": null,
      "metadata": {
        "id": "CMdP1zTWmsdw"
      },
      "outputs": [],
      "source": [
        "!python -m spacy download en_core_web_md"
      ]
    },
    {
      "cell_type": "markdown",
      "metadata": {
        "id": "W2qOWTF5msdx"
      },
      "source": [
        "* Spacy data vectorization "
      ]
    },
    {
      "cell_type": "code",
      "execution_count": null,
      "metadata": {
        "id": "OW5LrZP7msdx"
      },
      "outputs": [],
      "source": [
        "# en_core_web_md load\n",
        "nlp = spacy.load(\"en_core_web_md\")\n",
        "\n",
        "# label data filtering\n",
        "X_df = X[X[\"label\"].str.contains(\"#\")==False]\n",
        "x_test_df = X_test[X_test[\"label\"].str.contains(\"#\")==False]\n",
        "\n",
        "# change train data to list type\n",
        "x_train_query = X_df['query'].tolist()\n",
        "x_train_label = X_df['label'].tolist()\n",
        "\n",
        "# change test data to list type\n",
        "x_test_query = x_test_df['query'].tolist()\n",
        "x_test_label = x_test_df['label'].tolist()\n",
        "\n",
        "# use map and lambda function to vectorize query data of each train and test data.\n",
        "train_X = list(map(lambda x: list(nlp(x).vector), x_train_query))\n",
        "test_X = list(map(lambda x: list(nlp(x).vector), x_test_query))\n",
        "\n",
        "# change label data from String label to Scalar label using LabelEncoder\n",
        "\n",
        "le = LabelEncoder()\n",
        "train_label = le.fit_transform(x_train_label)\n",
        "test_label = le.fit_transform(x_test_label)\n",
        "\n",
        "# train_label and test_label info\n",
        "# atis_airfare: 0\n",
        "# atis_airline: 1\n",
        "# atis_flight: 2\n",
        "# atis_flight_time: 3\n",
        "# current_location: 4\n",
        "# distance: 5\n",
        "# timezone: 6\n",
        "# travel_suggestion: 7\n",
        "# weather: 8"
      ]
    },
    {
      "cell_type": "markdown",
      "metadata": {
        "id": "qH22w2X1msdx"
      },
      "source": [
        "#### 2. Work on the following components of your chatbot.\n",
        "#### a. Intent classification, where a multi-class type model should predict the user intent"
      ]
    },
    {
      "cell_type": "markdown",
      "metadata": {
        "id": "pE5sRf_Wmsdy"
      },
      "source": [
        "##### Experimentation with (at least two) different variations, where you might be trying out different options such as (listing more than two different experiments here, so choose two):"
      ]
    },
    {
      "cell_type": "markdown",
      "metadata": {
        "id": "tPYG_lIWmsdy"
      },
      "source": [
        "##### II. NLP algorithms/techniques – explain your choice (e.g., I am comparing SVM, FNN, etc. to understand their advantages and disadvantages when trained with the dataset…)\n",
        "##### Answer: XGBoost is a ensemble model. XGBoost uses models that are in XGBoost, and XGBoost performs freqeuncy based classification, so XGBoost gives favorable accuracy results. XGBoost almost always gives higher accuracy compared to using Randomforest model, and XGBoost has advantages of boosting ensemble models. There are lines of code below that compared both model's performance for the dataset is used for this project."
      ]
    },
    {
      "cell_type": "markdown",
      "metadata": {
        "id": "1jhxI2_smsdy"
      },
      "source": [
        "##### VI. hyperparameter optimisation – what are the most appropriate values (e.g. learning rate, training cycles, etc., depending on the algorithm)\n",
        "\n",
        "##### Answer: To find the most optimal hyper-parameter for the model, bayesian optimization was used. Unlike grid search or random search, bayesian optimization performs experiments N times, which allows more detailed and optimal prediction of hyper-parameter using the results from the experiments that were performed. "
      ]
    },
    {
      "cell_type": "markdown",
      "metadata": {
        "id": "fFeFYKm9msdy"
      },
      "source": [
        "* XGBoostClassifier define & hyper-parameter turning"
      ]
    },
    {
      "cell_type": "code",
      "execution_count": null,
      "metadata": {
        "id": "9hR2r_lKmsdz"
      },
      "outputs": [],
      "source": [
        "# import metric from sklearn to test model's performance\n",
        "from sklearn.metrics import *\n",
        "# import XGBoost, which will be used for classification.\n",
        "import xgboost as xgb\n",
        "from sklearn.ensemble import GradientBoostingClassifier\n",
        "\n",
        "\n",
        "# use XGBoostClassifier and Bayesian optimizer to set search function that can do hyper-parameter turning.\n",
        "def XGB_cv(max_depth,learning_rate, n_estimators):\n",
        "\n",
        "    # initialize XGboostClassifier\n",
        "    clf = xgb.XGBClassifier(max_depth=int(max_depth),\n",
        "                            learning_rate=learning_rate,\n",
        "                            n_estimators=int(n_estimators)\n",
        "                            ,verbosity = 0, nthread = -1)\n",
        "\n",
        "    # model fitting\n",
        "    clf.fit(train_X, train_label)\n",
        "\n",
        "    # model inference by test data\n",
        "    y_pred= clf.predict(test_X)\n",
        "\n",
        "    # test model's inference accuracy using model inference data and answers.\n",
        "    auc = f1_score(test_label, y_pred, average='micro')\n",
        "\n",
        "    # use bayesian optimization to return metric that will be used for hyper-parameter optimization.\n",
        "    return auc"
      ]
    },
    {
      "cell_type": "markdown",
      "metadata": {
        "id": "Z181J36Amsdz"
      },
      "source": [
        "* Training XGBClassifier"
      ]
    },
    {
      "cell_type": "code",
      "execution_count": null,
      "metadata": {
        "id": "q-ER4gvrmsdz",
        "outputId": "93c26280-cee3-4b89-a7ca-644912635b8f"
      },
      "outputs": [
        {
          "name": "stdout",
          "output_type": "stream",
          "text": [
            "|   iter    |  target   | learni... | max_depth | n_esti... |\n",
            "-------------------------------------------------------------\n",
            "| \u001b[0m 1       \u001b[0m | \u001b[0m 0.8753  \u001b[0m | \u001b[0m 0.04229 \u001b[0m | \u001b[0m 72.31   \u001b[0m | \u001b[0m 11.14   \u001b[0m |\n",
            "| \u001b[95m 2       \u001b[0m | \u001b[95m 0.9287  \u001b[0m | \u001b[95m 0.03093 \u001b[0m | \u001b[95m 15.53   \u001b[0m | \u001b[95m 932.5   \u001b[0m |\n",
            "| \u001b[95m 3       \u001b[0m | \u001b[95m 0.9329  \u001b[0m | \u001b[95m 0.01944 \u001b[0m | \u001b[95m 35.21   \u001b[0m | \u001b[95m 3.974e+0\u001b[0m |\n",
            "| \u001b[95m 4       \u001b[0m | \u001b[95m 0.9403  \u001b[0m | \u001b[95m 0.05434 \u001b[0m | \u001b[95m 42.5    \u001b[0m | \u001b[95m 6.855e+0\u001b[0m |\n",
            "| \u001b[0m 5       \u001b[0m | \u001b[0m 0.9287  \u001b[0m | \u001b[0m 0.002257\u001b[0m | \u001b[0m 36.56   \u001b[0m | \u001b[0m 6.853e+0\u001b[0m |\n",
            "| \u001b[0m 6       \u001b[0m | \u001b[0m 0.9382  \u001b[0m | \u001b[0m 0.01877 \u001b[0m | \u001b[0m 54.08   \u001b[0m | \u001b[0m 6.868e+0\u001b[0m |\n",
            "| \u001b[0m 7       \u001b[0m | \u001b[0m 0.9392  \u001b[0m | \u001b[0m 0.07242 \u001b[0m | \u001b[0m 56.34   \u001b[0m | \u001b[0m 6.85e+03\u001b[0m |\n",
            "| \u001b[95m 8       \u001b[0m | \u001b[95m 0.9434  \u001b[0m | \u001b[95m 0.04275 \u001b[0m | \u001b[95m 6.146   \u001b[0m | \u001b[95m 3.954e+0\u001b[0m |\n",
            "| \u001b[0m 9       \u001b[0m | \u001b[0m 0.9403  \u001b[0m | \u001b[0m 0.03356 \u001b[0m | \u001b[0m 14.33   \u001b[0m | \u001b[0m 3.934e+0\u001b[0m |\n",
            "| \u001b[0m 10      \u001b[0m | \u001b[0m 0.9392  \u001b[0m | \u001b[0m 0.04755 \u001b[0m | \u001b[0m 42.93   \u001b[0m | \u001b[0m 4.724e+0\u001b[0m |\n",
            "| \u001b[95m 11      \u001b[0m | \u001b[95m 0.9497  \u001b[0m | \u001b[95m 0.04123 \u001b[0m | \u001b[95m 3.806   \u001b[0m | \u001b[95m 3.981e+0\u001b[0m |\n",
            "| \u001b[0m 12      \u001b[0m | \u001b[0m 0.934   \u001b[0m | \u001b[0m 0.04938 \u001b[0m | \u001b[0m 84.28   \u001b[0m | \u001b[0m 9.791e+0\u001b[0m |\n",
            "| \u001b[0m 13      \u001b[0m | \u001b[0m 0.9371  \u001b[0m | \u001b[0m 0.03292 \u001b[0m | \u001b[0m 76.59   \u001b[0m | \u001b[0m 8.571e+0\u001b[0m |\n",
            "| \u001b[0m 14      \u001b[0m | \u001b[0m 0.9361  \u001b[0m | \u001b[0m 0.04358 \u001b[0m | \u001b[0m 77.33   \u001b[0m | \u001b[0m 8.572e+0\u001b[0m |\n",
            "| \u001b[0m 15      \u001b[0m | \u001b[0m 0.9486  \u001b[0m | \u001b[0m 0.03322 \u001b[0m | \u001b[0m 2.321   \u001b[0m | \u001b[0m 4.001e+0\u001b[0m |\n",
            "| \u001b[0m 16      \u001b[0m | \u001b[0m 0.9371  \u001b[0m | \u001b[0m 0.0418  \u001b[0m | \u001b[0m 24.21   \u001b[0m | \u001b[0m 4.015e+0\u001b[0m |\n",
            "| \u001b[0m 17      \u001b[0m | \u001b[0m 0.9371  \u001b[0m | \u001b[0m 0.04362 \u001b[0m | \u001b[0m 69.04   \u001b[0m | \u001b[0m 8.539e+0\u001b[0m |\n",
            "| \u001b[0m 18      \u001b[0m | \u001b[0m 0.9361  \u001b[0m | \u001b[0m 0.09587 \u001b[0m | \u001b[0m 43.09   \u001b[0m | \u001b[0m 8.558e+0\u001b[0m |\n",
            "| \u001b[0m 19      \u001b[0m | \u001b[0m 0.934   \u001b[0m | \u001b[0m 0.09443 \u001b[0m | \u001b[0m 15.96   \u001b[0m | \u001b[0m 4.7e+03 \u001b[0m |\n",
            "| \u001b[0m 20      \u001b[0m | \u001b[0m 0.9172  \u001b[0m | \u001b[0m 0.01156 \u001b[0m | \u001b[0m 1.025   \u001b[0m | \u001b[0m 4.03e+03\u001b[0m |\n",
            "| \u001b[0m 21      \u001b[0m | \u001b[0m 0.935   \u001b[0m | \u001b[0m 0.05554 \u001b[0m | \u001b[0m 18.36   \u001b[0m | \u001b[0m 3.99e+03\u001b[0m |\n",
            "| \u001b[0m 22      \u001b[0m | \u001b[0m 0.935   \u001b[0m | \u001b[0m 0.08575 \u001b[0m | \u001b[0m 61.47   \u001b[0m | \u001b[0m 4.748e+0\u001b[0m |\n",
            "| \u001b[0m 23      \u001b[0m | \u001b[0m 0.9361  \u001b[0m | \u001b[0m 0.07534 \u001b[0m | \u001b[0m 68.68   \u001b[0m | \u001b[0m 4.706e+0\u001b[0m |\n",
            "| \u001b[0m 24      \u001b[0m | \u001b[0m 0.9382  \u001b[0m | \u001b[0m 0.09483 \u001b[0m | \u001b[0m 44.02   \u001b[0m | \u001b[0m 3.937e+0\u001b[0m |\n",
            "=============================================================\n",
            "{'target': 0.949685534591195, 'params': {'learning_rate': 0.04123194632641375, 'max_depth': 3.805596066830272, 'n_estimators': 3981.189698824019}}\n"
          ]
        }
      ],
      "source": [
        "# import Bayesian Optimization class from byesian-optimization library\n",
        "from bayes_opt import BayesianOptimization\n",
        "\n",
        "# set of hyperparameters to test\n",
        "# max_depth(int, default: 3): list of maximum tree depth\n",
        "# learning_rate(float, default: 0.1) : list of learning rate settings\n",
        "# n_estimators ( int, default : 100) : number of Boosted tree to fit\n",
        "\n",
        "pbounds = {'max_depth': (1, 100),\n",
        "            'learning_rate': (0.001, 0.1),\n",
        "            'n_estimators': (10,10000)\n",
        "            }\n",
        "\n",
        "# generate Bayesian optimization object\n",
        "# f : target explorer function, pbounds: set of hyperparameter\n",
        "# verbose = 2 always print, verbose = 1 print when it is max, verbose = 0 : don't print\n",
        "bo=BayesianOptimization(f=XGB_cv, pbounds=pbounds, verbose=2, random_state=1 )    \n",
        "\n",
        "# maximization using method\n",
        "# init_points : initial number of random search\n",
        "# n_iter : number of repeats (more accurate results can be obtained as more input value and function values are checked)\n",
        "# acq : use Expected Improvement(EI) from Acquistion Function\n",
        "# xi : strength of exploration (default value 0.0) \n",
        "bo.maximize(init_points=4, n_iter=20, acq='ei', xi=0.01)\n",
        "\n",
        "# check the value of hyper-parameter found\n",
        "print(bo.max)"
      ]
    },
    {
      "cell_type": "markdown",
      "metadata": {
        "id": "FNoTMi1Amsd0"
      },
      "source": [
        "* Model training by Best hyper-parameter "
      ]
    },
    {
      "cell_type": "code",
      "execution_count": null,
      "metadata": {
        "id": "ZFh3oj9Emsd0",
        "outputId": "e1a87894-597f-49b8-f8e8-4295a467385f"
      },
      "outputs": [
        {
          "name": "stdout",
          "output_type": "stream",
          "text": [
            "0.9633123689727463\n"
          ]
        }
      ],
      "source": [
        "# using the most optimal hyper-parameter found train the model, and measure the accuracy of the model.\n",
        "clf = xgb.XGBClassifier(max_depth=4,\n",
        "                            learning_rate=0.04123,\n",
        "                            n_estimators=3981,\n",
        "                            verbosity = 0)\n",
        "clf.fit(train_X, train_label)\n",
        "y_pred= clf.predict(test_X)\n",
        "auc = f1_score(test_label, y_pred,average='micro')\n",
        "print(auc)"
      ]
    },
    {
      "cell_type": "markdown",
      "metadata": {
        "id": "yckrxc_emsd0"
      },
      "source": [
        "* Model save"
      ]
    },
    {
      "cell_type": "code",
      "execution_count": null,
      "metadata": {
        "id": "E3zJ36vrmsd1",
        "outputId": "2da3bcfc-55d9-49f0-abaa-8c380808b7fd"
      },
      "outputs": [
        {
          "data": {
            "text/plain": [
              "['./trained.pkl']"
            ]
          },
          "execution_count": 12,
          "metadata": {},
          "output_type": "execute_result"
        }
      ],
      "source": [
        "# save the fitted model as pickle file.\n",
        "joblib.dump(clf, './trained.pkl')"
      ]
    },
    {
      "cell_type": "markdown",
      "metadata": {
        "id": "o6ea81y2Ku4U"
      },
      "source": [
        "#### 3. Perform testing for each of the experiments conducted above – show visuals, such as confusion matrix or other relevant metrics for each experiment (10 marks)\n"
      ]
    },
    {
      "cell_type": "markdown",
      "metadata": {
        "id": "QvIxpg39msd1"
      },
      "source": [
        "* Model load and test score"
      ]
    },
    {
      "cell_type": "code",
      "execution_count": null,
      "metadata": {
        "id": "5lJsfRqjmsd1",
        "outputId": "79ddb9b3-b581-4d12-dfe9-5c5de53e7e74"
      },
      "outputs": [
        {
          "name": "stdout",
          "output_type": "stream",
          "text": [
            "0.9454926624737946\n"
          ]
        }
      ],
      "source": [
        "# load the model to test whether if model performs inference correctly or not.\n",
        "saved_model = joblib.load('./trained.pkl') \n",
        "saved_model.predict(test_X)\n",
        "auc = accuracy_score(test_label, y_pred)\n",
        "print(auc)"
      ]
    },
    {
      "cell_type": "markdown",
      "metadata": {
        "id": "1uxx6lj3msd1"
      },
      "source": [
        "* Confusion matrix"
      ]
    },
    {
      "cell_type": "code",
      "execution_count": null,
      "metadata": {
        "id": "iXUo6rUkmsd1",
        "outputId": "c8a5ad91-805a-472b-f088-77c20b8cc0ed"
      },
      "outputs": [
        {
          "data": {
            "image/png": "[encoded data removed]",
            "text/plain": [
              "<Figure size 432x288 with 2 Axes>"
            ]
          },
          "metadata": {
            "needs_background": "light"
          },
          "output_type": "display_data"
        }
      ],
      "source": [
        "plot_confusion_matrix(saved_model,test_X, y_pred)\n",
        "plt.show()"
      ]
    },
    {
      "cell_type": "markdown",
      "metadata": {
        "id": "f6s81wYnmsd1"
      },
      "source": [
        "* Test Question and chatbot answer"
      ]
    },
    {
      "cell_type": "code",
      "execution_count": null,
      "metadata": {
        "id": "Jd8JBv0Emsd2",
        "outputId": "b1b1ed24-2ac4-4c33-f0eb-f69936077a21"
      },
      "outputs": [
        {
          "data": {
            "text/plain": [
              "array([4])"
            ]
          },
          "execution_count": 82,
          "metadata": {},
          "output_type": "execute_result"
        }
      ],
      "source": [
        "saved_model.predict(list([nlp('where is my location').vector]))"
      ]
    },
    {
      "cell_type": "markdown",
      "metadata": {
        "id": "-fCQiVUimsdz"
      },
      "source": [
        "* Training RandomForestClassifier"
      ]
    },
    {
      "cell_type": "code",
      "execution_count": null,
      "metadata": {
        "id": "3POaDzhTmsd0"
      },
      "outputs": [],
      "source": [
        "# use RandomForestClassifier and Bayesian optimizer to set search function that can do hyper-parameter turning.\n",
        "def rf_cv(max_depth, n_estimators):\n",
        "\n",
        "    # initialize RandomForestClassifier\n",
        "    rf = RandomForestClassifier(max_depth=int(max_depth),\n",
        "                            n_estimators=int(n_estimators),verbose=0,n_jobs=-1)\n",
        "\n",
        "    # model fitting\n",
        "    rf.fit(train_X, train_label)\n",
        "\n",
        "    # model inference by test data\n",
        "    y_pred= rf.predict(test_X)\n",
        "\n",
        "    # test model's inference accuracy using model inference data and answers.\n",
        "    auc = f1_score(test_label, y_pred, average='micro')\n",
        "\n",
        "    # use bayesian optimization to return metric that will be used for hyper-parameter optimization.\n",
        "    return auc"
      ]
    },
    {
      "cell_type": "code",
      "execution_count": null,
      "metadata": {
        "id": "sNb55oGKmsd0",
        "outputId": "f4533905-fb19-4a9b-9111-7f3f4839b671"
      },
      "outputs": [
        {
          "name": "stdout",
          "output_type": "stream",
          "text": [
            "|   iter    |  target   | max_depth | n_esti... |\n",
            "-------------------------------------------------\n",
            "| \u001b[0m 1       \u001b[0m | \u001b[0m 0.9361  \u001b[0m | \u001b[0m 42.29   \u001b[0m | \u001b[0m 7.206e+0\u001b[0m |\n",
            "| \u001b[0m 2       \u001b[0m | \u001b[0m 0.4403  \u001b[0m | \u001b[0m 1.011   \u001b[0m | \u001b[0m 3.03e+03\u001b[0m |\n",
            "| \u001b[0m 3       \u001b[0m | \u001b[0m 0.9319  \u001b[0m | \u001b[0m 15.53   \u001b[0m | \u001b[0m 932.5   \u001b[0m |\n",
            "| \u001b[0m 4       \u001b[0m | \u001b[0m 0.935   \u001b[0m | \u001b[0m 19.44   \u001b[0m | \u001b[0m 3.462e+0\u001b[0m |\n",
            "| \u001b[0m 5       \u001b[0m | \u001b[0m 0.9361  \u001b[0m | \u001b[0m 39.98   \u001b[0m | \u001b[0m 7.203e+0\u001b[0m |\n",
            "| \u001b[0m 6       \u001b[0m | \u001b[0m 0.9361  \u001b[0m | \u001b[0m 15.19   \u001b[0m | \u001b[0m 3.687e+0\u001b[0m |\n",
            "| \u001b[0m 7       \u001b[0m | \u001b[0m 0.9329  \u001b[0m | \u001b[0m 72.92   \u001b[0m | \u001b[0m 575.9   \u001b[0m |\n",
            "| \u001b[0m 8       \u001b[0m | \u001b[0m 0.935   \u001b[0m | \u001b[0m 98.1    \u001b[0m | \u001b[0m 6.743e+0\u001b[0m |\n",
            "| \u001b[0m 9       \u001b[0m | \u001b[0m 0.9099  \u001b[0m | \u001b[0m 8.724   \u001b[0m | \u001b[0m 6.335e+0\u001b[0m |\n",
            "| \u001b[0m 10      \u001b[0m | \u001b[0m 0.4413  \u001b[0m | \u001b[0m 1.515   \u001b[0m | \u001b[0m 148.6   \u001b[0m |\n",
            "| \u001b[0m 11      \u001b[0m | \u001b[0m 0.935   \u001b[0m | \u001b[0m 98.18   \u001b[0m | \u001b[0m 752.8   \u001b[0m |\n",
            "| \u001b[0m 12      \u001b[0m | \u001b[0m 0.7987  \u001b[0m | \u001b[0m 4.542   \u001b[0m | \u001b[0m 1.36e+03\u001b[0m |\n",
            "| \u001b[0m 13      \u001b[0m | \u001b[0m 0.848   \u001b[0m | \u001b[0m 5.752   \u001b[0m | \u001b[0m 7.628e+0\u001b[0m |\n",
            "| \u001b[0m 14      \u001b[0m | \u001b[0m 0.935   \u001b[0m | \u001b[0m 93.42   \u001b[0m | \u001b[0m 5.894e+0\u001b[0m |\n",
            "| \u001b[0m 15      \u001b[0m | \u001b[0m 0.608   \u001b[0m | \u001b[0m 2.806   \u001b[0m | \u001b[0m 5.563e+0\u001b[0m |\n",
            "| \u001b[0m 16      \u001b[0m | \u001b[0m 0.934   \u001b[0m | \u001b[0m 100.0   \u001b[0m | \u001b[0m 6.075e+0\u001b[0m |\n",
            "| \u001b[0m 17      \u001b[0m | \u001b[0m 0.935   \u001b[0m | \u001b[0m 100.0   \u001b[0m | \u001b[0m 6.976e+0\u001b[0m |\n",
            "| \u001b[0m 18      \u001b[0m | \u001b[0m 0.934   \u001b[0m | \u001b[0m 100.0   \u001b[0m | \u001b[0m 3.569e+0\u001b[0m |\n",
            "| \u001b[0m 19      \u001b[0m | \u001b[0m 0.4361  \u001b[0m | \u001b[0m 1.552   \u001b[0m | \u001b[0m 4.242e+0\u001b[0m |\n",
            "| \u001b[0m 20      \u001b[0m | \u001b[0m 0.9329  \u001b[0m | \u001b[0m 37.57   \u001b[0m | \u001b[0m 1e+04   \u001b[0m |\n",
            "| \u001b[0m 21      \u001b[0m | \u001b[0m 0.9361  \u001b[0m | \u001b[0m 94.69   \u001b[0m | \u001b[0m 9.633e+0\u001b[0m |\n",
            "| \u001b[0m 22      \u001b[0m | \u001b[0m 0.847   \u001b[0m | \u001b[0m 5.232   \u001b[0m | \u001b[0m 9.219e+0\u001b[0m |\n",
            "| \u001b[0m 23      \u001b[0m | \u001b[0m 0.4392  \u001b[0m | \u001b[0m 1.0     \u001b[0m | \u001b[0m 9.794e+0\u001b[0m |\n",
            "| \u001b[0m 24      \u001b[0m | \u001b[0m 0.9361  \u001b[0m | \u001b[0m 98.24   \u001b[0m | \u001b[0m 9.528e+0\u001b[0m |\n",
            "=================================================\n",
            "{'target': 0.9360587002096437, 'params': {'max_depth': 42.28517846555483, 'n_estimators': 7206.04168948716}}\n"
          ]
        }
      ],
      "source": [
        "# set of hyperparameters to test\n",
        "pbounds = {'max_depth': (1, 100),\n",
        "            'n_estimators': (10,10000)\n",
        "            }\n",
        "\n",
        "# generate Bayesian optimization object\n",
        "bo2=BayesianOptimization(f=rf_cv, pbounds=pbounds, verbose=2, random_state=1 )    \n",
        "\n",
        "# maximization using method\n",
        "bo2.maximize(init_points=4, n_iter=20, acq='ei', xi=0.01)\n",
        "\n",
        "# check the value of hyper-parameter found\n",
        "print(bo2.max)"
      ]
    },
    {
      "cell_type": "markdown",
      "metadata": {
        "id": "jj5IBH69msd2"
      },
      "source": [
        "#### b. Name Entity Recognition (NER), where a model should be fine-tuned to extract needed entities from the user’s input (e.g., dates, places, etc.)"
      ]
    },
    {
      "cell_type": "markdown",
      "metadata": {
        "id": "ctkQsfLooBB9"
      },
      "source": [
        "Import required libs"
      ]
    },
    {
      "cell_type": "code",
      "execution_count": null,
      "metadata": {
        "id": "fcodkn0Dot0D"
      },
      "outputs": [],
      "source": [
        "import spacy\n",
        "import en_core_web_sm\n",
        "nlp = en_core_web_sm.load()"
      ]
    },
    {
      "cell_type": "markdown",
      "metadata": {
        "id": "wVT3f2Q-n_57"
      },
      "source": [
        "Test sentence"
      ]
    },
    {
      "cell_type": "code",
      "execution_count": null,
      "metadata": {
        "id": "DWZF3091n8CH"
      },
      "outputs": [],
      "source": [
        "sentence = \"How long is it from Korea to the US?\""
      ]
    },
    {
      "cell_type": "markdown",
      "metadata": {
        "id": "yLfze5RxoDML"
      },
      "source": [
        "Creating a list of tuples generated from model"
      ]
    },
    {
      "cell_type": "code",
      "execution_count": null,
      "metadata": {
        "id": "TnV60J7qn-QX"
      },
      "outputs": [],
      "source": [
        "doc = nlp(sentence)\n",
        "hello =([(X.text, X.label_) for X in doc.ents])"
      ]
    },
    {
      "cell_type": "markdown",
      "metadata": {
        "id": "CSC1Mc-ToEz5"
      },
      "source": [
        "Function to parse list of tuples generated by model"
      ]
    },
    {
      "cell_type": "code",
      "execution_count": null,
      "metadata": {
        "id": "OE5UspbOoFvl"
      },
      "outputs": [],
      "source": [
        "def entity_name(name):\n",
        "    for entity in hello:\n",
        "        if entity[1] == name:\n",
        "            print(entity[0])"
      ]
    },
    {
      "cell_type": "markdown",
      "metadata": {
        "id": "BMBM4n8YoIlJ"
      },
      "source": [
        "Results"
      ]
    },
    {
      "cell_type": "code",
      "execution_count": null,
      "metadata": {
        "id": "Dc8466QFoHLH",
        "outputId": "c13d1caf-b0a6-4193-cb50-eb18c644a9ab"
      },
      "outputs": [
        {
          "name": "stdout",
          "output_type": "stream",
          "text": [
            "Location:\n",
            "Korea\n",
            "US\n"
          ]
        }
      ],
      "source": [
        "print(\"Location:\")\n",
        "entity_name(\"GPE\")"
      ]
    },
    {
      "cell_type": "markdown",
      "metadata": {
        "id": "11g57_7IKu4a"
      },
      "source": [
        "#### c.    Dialogue Flow manager, where a mechanism should try and predict what the chatbot’s next action should be (can be simple heuristics and/or ML model)"
      ]
    },
    {
      "cell_type": "code",
      "execution_count": null,
      "metadata": {
        "id": "_Qq525d4Ku4a"
      },
      "outputs": [],
      "source": [
        "import chatbot_ui.intent\n",
        "import chatbot_ui.intent_NER_to_answer\n",
        "import chatbot_ui.NER\n",
        "\n",
        "\n",
        "sentence = \"How long is it from Korea to the US?\"\n",
        "#prediction intent, NER\n",
        "intent_predict= chatbot_ui.intent.intent_classification(sentence)\n",
        "\n",
        "NER_predict= chatbot_ui.NER.NER_predict(sentence)\n",
        "print(intent_predict,NER_predict)\n",
        "\n",
        "# make answer by intent and NER \n",
        "response = chatbot_ui.intent_NER_to_answer.make_answer(intent_predict,NER_predict)\n",
        "\n",
        "print(\"User: \",sentence)\n",
        "print(\"Chatbot: \",response)"
      ]
    },
    {
      "cell_type": "markdown",
      "metadata": {
        "id": "ZeTcUJEIKu4b"
      },
      "source": [
        "4. Discuss results from the test on all the experiments you conducted and mention if there was any need to adjust any variables and re-run the experiment (10 marks)\n",
        "\n",
        "Answer: In intent classification XGBoost model resulted in accuracy of about 95%. Random forest model resulted in 93% accuracy. Each model's hyper-parameters were found using bayesian optimizer, so I did not need change the hyper-parameters of the models. I could have added more variables or do additional pre-processing during pre-processing or compare many other models available to get better accuracy, but the test shows satisfactory results. During actual use of the model, if the chatbot gives inaccurate answer, the user can always ask the question again.  "
      ]
    },
    {
      "cell_type": "markdown",
      "metadata": {
        "id": "urc2QdwYKu4b"
      },
      "source": [
        "5. Evaluate the overall attempt and outcome – this goes beyond the accuracy of the models, so some important questions to consider here are:\n",
        "\n",
        "a. “Can the chatbot components you experimented with fulfil their purpose?”\n",
        "\n",
        "Answer: Model for intent classification has about accuracy fo 95%, so it would be able to fulfil the purpose for the intent classificaiton of the coursework chatbot.\n",
        "\n",
        "b. “What is good enough accuracy?”\n",
        "\n",
        "Answer: Good enough accuracy is when a user uses the chatbot the user does not feel a lot of inconvenience. If a wrong answer is given by the chatbot, I can try to lead the user to ask the question again. \n",
        "\n",
        "c. If any of the models did not perform well, what is needed to \n",
        "improve?\n",
        "\n",
        "Answer: If the model's performance is not high enough. I can reduce the number of intents to reduce the complexity which could increase the accuracy, increase the number of data, or change the pre-processing method. Datasets have different models that gives best accuracy for that certain dataset, so there is also need to test many different models for the dataset. \n",
        "\n",
        "d. If any of the models performed really well, could you make it more efficient and sacrifice some quality?\n",
        "\n",
        "Answer: It is always worth it to use better models that give better accuracy, but chatbots need high accuracy and high answer speed. I would evaluate the model with higher accuracy to check if it uses high computing resource then choose to use the model or not use the model."
      ]
    },
    {
      "cell_type": "markdown",
      "metadata": {
        "id": "PM0b6rC_MPyR"
      },
      "source": [
        "#### Reference: \n",
        "\n",
        "1. GitHub. (n.d.). GitHub - clinc/oos-eval: Repository that accompanies ‘An Evaluation Dataset for Intent Classification and Out-of-Scope Prediction’ (EMNLP 2019). [online] Available at: https://github.com/clinc/oos-eval.\n",
        "\n",
        "2. www.kaggle.com. (n.d.). ATIS Airline Travel Information System. [online] Available at: https://www.kaggle.com/datasets/hassanamin/atis-airlinetravelinformationsystem.\n",
        "\n",
        "3. Bayesian-optimization: https://github.com/fmfn/BayesianOptimization\n",
        "4. xgboost: https://xgboost.readthedocs.io/en/stable/"
      ]
    }
  ],
  "metadata": {
    "colab": {
      "collapsed_sections": [],
      "name": "main_individual.ipynb",
      "provenance": []
    },
    "kernelspec": {
      "display_name": "Python 3.9.12 ('base')",
      "language": "python",
      "name": "python3"
    },
    "language_info": {
      "codemirror_mode": {
        "name": "ipython",
        "version": 3
      },
      "file_extension": ".py",
      "mimetype": "text/x-python",
      "name": "python",
      "nbconvert_exporter": "python",
      "pygments_lexer": "ipython3",
      "version": "3.9.12"
    },
    "orig_nbformat": 4,
    "vscode": {
      "interpreter": {
        "hash": "a077222d77dfe082b8f1dd562ad70e458ac2ab76993a0b248ab0476e32e9e8dd"
      }
    }
  },
  "nbformat": 4,
  "nbformat_minor": 0
}
